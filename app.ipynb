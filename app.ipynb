{
 "cells": [
  {
   "cell_type": "code",
   "execution_count": 1,
   "metadata": {},
   "outputs": [],
   "source": [
    "from assistant import Assistant"
   ]
  },
  {
   "cell_type": "code",
   "execution_count": 2,
   "metadata": {},
   "outputs": [],
   "source": [
    "# import pandas as pd\n",
    "# excel_file = 'expense_sheet1.csv'\n",
    "\n",
    "# sheet_name = 'expense_sheet1'  \n",
    "\n",
    "# df = pd.read_excel(excel_file, sheet_name=sheet_name)\n",
    "\n",
    "# csv_file = 'expense_sheet1.csv'\n",
    "# df.to_csv(csv_file, index=False)\n",
    "\n",
    "# print(f\"Excel file '{excel_file}' has been converted to CSV file '{csv_file}'\")"
   ]
  },
  {
   "cell_type": "code",
   "execution_count": 3,
   "metadata": {},
   "outputs": [],
   "source": [
    "assistant = Assistant().create(\"expense sheet1.csv\")"
   ]
  },
  {
   "cell_type": "code",
   "execution_count": 4,
   "metadata": {},
   "outputs": [],
   "source": [
    "thread_id = Assistant().createThreadId()"
   ]
  },
  {
   "cell_type": "code",
   "execution_count": 6,
   "metadata": {},
   "outputs": [],
   "source": [
    "prompt = \"what is the data in the sheet\"\n",
    "response = Assistant().ask(assistant.id, thread_id, prompt)"
   ]
  },
  {
   "cell_type": "code",
   "execution_count": 7,
   "metadata": {},
   "outputs": [
    {
     "data": {
      "text/plain": [
       "'It seems that the data in the sheets has been displayed in the previous output. Here is a summary of the data in each sheet:\\n\\n**Sheet1:**\\n- Model, Campaign, Action, Budget, Sales\\n- Model A, Campaign 1, Action 1, 1000, 30\\n- Model A, Campaign 1, Action 2, 2000, 50\\n- Model B, Campaign 2, Action 1, 1500, 40\\n- Model B, Campaign 2, Action 2, 3000, 60\\n\\n**Sheet2:**\\n- Date, Impressions, Clicks, Sales\\n- 2021-01-01, 1000000, 20000, 2000\\n- 2021-01-02, 1100000, 22000, 2200\\n- 2021-01-03, 1050000, 21000, 2100\\n- 2021-01-04, 950000, 19000, 1900\\n\\nIf you need more specific information or further analysis, please let me know!'"
      ]
     },
     "execution_count": 7,
     "metadata": {},
     "output_type": "execute_result"
    }
   ],
   "source": [
    "response"
   ]
  }
 ],
 "metadata": {
  "kernelspec": {
   "display_name": "Python 3",
   "language": "python",
   "name": "python3"
  },
  "language_info": {
   "codemirror_mode": {
    "name": "ipython",
    "version": 3
   },
   "file_extension": ".py",
   "mimetype": "text/x-python",
   "name": "python",
   "nbconvert_exporter": "python",
   "pygments_lexer": "ipython3",
   "version": "3.12.4"
  }
 },
 "nbformat": 4,
 "nbformat_minor": 2
}
